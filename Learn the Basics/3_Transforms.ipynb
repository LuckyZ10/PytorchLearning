{
 "cells": [
  {
   "cell_type": "markdown",
   "id": "4947995b",
   "metadata": {},
   "source": [
    "# Transforms\n",
    "- 数据并不总是以训练机器学习算法所需的最终处理形式出现。我们使用**transforms**来对数据进行一些操作，使其适合训练。\n",
    "- 所有的 Torchvision DataSet 都有两个参数 \n",
    "    - `transform` 用于修改特征，\n",
    "    - `target_transform` 用于修改标签\n",
    "    - 这两个参数接受包含transformation logic的可调用对象。`torchvision.transforms` 模块提供了一些常用的变换。\n",
    "> **Note**: TorchVision 是 PyTorch 的一个重要视觉工具包，其中的数据集包含了各种用于计算机视觉任务的图像或视频数据集合，如常见的 MNIST（手写数字图像数据集）、CIFAR（小型彩色图像数据集）等，这些数据集为模型训练、算法研究等计算机视觉相关工作提供数据支持。\n",
    "\n",
    "> **Note**: FashionMNIST 的特征采用 PIL 图像格式，标签为整数。对于训练而言，我们需要将特征转换为归一化的张量，标签转换为one-hot encoded tensors。为实现这些转换，我们使用 `ToTensor` 和 `Lambda`。\n",
    "\n"
   ]
  },
  {
   "cell_type": "code",
   "execution_count": null,
   "id": "279a4d3c",
   "metadata": {},
   "outputs": [],
   "source": [
    "import torch\n",
    "from torchvision import datasets\n",
    "from torchvision.transforms import ToTensor, Lambda\n",
    "\n",
    "# 加载 FashionMNIST 数据集，这是一个包含 10 个类别的服装图像数据集\n",
    "ds = datasets.FashionMNIST(\n",
    "    # 指定数据集的存储路径\n",
    "    root=\"/home/yilin/TRAE/data\",\n",
    "    # 选择加载训练集（True）还是测试集（False）\n",
    "    train=True,\n",
    "    # 如果数据集不存在，是否自动下载\n",
    "    download=True,\n",
    "    # 图像数据预处理：将 PIL 图像转换为 PyTorch 张量（Tensor）\n",
    "    transform=ToTensor(),\n",
    "    # 标签预处理：将数字标签（0-9）转换为 10 维的 one-hot 编码向量\n",
    "    target_transform=Lambda(lambda y: torch.zeros(10, dtype=torch.float).scatter_(0, torch.tensor(y), value=1)) \n",
    "    # scatter_() 可以把一个值填充到目标张量的指定位置。\n",
    "    # lambda 参数: 返回值\n",
    ")"
   ]
  },
  {
   "cell_type": "markdown",
   "id": "8a26038b",
   "metadata": {},
   "source": [
    "## ToTensor()\n",
    "`ToTensor()` 将 PIL 图像或 NumPy 多维数组转换为 FloatTensor（浮点张量）。并且会将图像的像素强度值缩放至 [0., 1.] 这个范围。"
   ]
  },
  {
   "cell_type": "markdown",
   "id": "d0654ff9",
   "metadata": {},
   "source": [
    "## Lambda Transforms\n",
    "这段文本主要介绍了 `Lambda` 变换可应用任何用户自定义的 lambda 函数。具体而言，这里定义了一个函数，其功能是将整数转换为独热编码张量。该函数首先创建一个大小为 10（数据集标签数量）的零张量，然后调用 scatter_函数，此函数会在标签 y 所给定的索引位置上赋值为 1 。例如，若标签 y 为 3，那么在大小为 10 的零张量中，索引为 3 的位置会被赋值为 1，其余位置仍为 0 ，从而实现独热编码。\n"
   ]
  },
  {
   "cell_type": "code",
   "execution_count": null,
   "id": "22b6cf5e",
   "metadata": {},
   "outputs": [],
   "source": [
    "target_transform = Lambda(lambda y: torch.zeros(10, dtype=torch.float).scatter_(dim=0, index=torch.tensor(y), value=1))"
   ]
  }
 ],
 "metadata": {
  "kernelspec": {
   "display_name": "pytorchV",
   "language": "python",
   "name": "python3"
  },
  "language_info": {
   "codemirror_mode": {
    "name": "ipython",
    "version": 3
   },
   "file_extension": ".py",
   "mimetype": "text/x-python",
   "name": "python",
   "nbconvert_exporter": "python",
   "pygments_lexer": "ipython3",
   "version": "3.10.18"
  }
 },
 "nbformat": 4,
 "nbformat_minor": 5
}
