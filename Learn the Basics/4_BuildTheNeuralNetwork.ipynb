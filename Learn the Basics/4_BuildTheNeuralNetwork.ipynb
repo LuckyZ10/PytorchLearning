{
 "cells": [
  {
   "cell_type": "markdown",
   "id": "f4f7cee4",
   "metadata": {},
   "source": [
    "# Build the Neural Network\n",
    "- 神经网络由对数据执行操作的layers/modules组成。`torch.nn` 命名空间提供了你构建自己的神经网络所需的所有基础组件(building blocks)。\n",
    "- PyTorch 中的每个module都是 `nn.Module` 的子类。\n",
    "- 神经网络本身就是一个module，它由其他modules（layerd）组成。这种嵌套结构使得轻松构建和管理复杂的架构成为可能。\n",
    "\n",
    "在接下来的章节中，我们将构建一个神经网络，对 FashionMNIST 数据集中的图像进行分类。"
   ]
  },
  {
   "cell_type": "code",
   "execution_count": 1,
   "id": "5b5ab8eb",
   "metadata": {},
   "outputs": [],
   "source": [
    "import os\n",
    "import torch\n",
    "from torch import nn\n",
    "from torch.utils.data import DataLoader\n",
    "from torchvision import datasets, transforms"
   ]
  },
  {
   "cell_type": "markdown",
   "id": "255d7d3f",
   "metadata": {},
   "source": [
    "## Get Device for Training\n",
    "我们希望能够在诸如 CUDA、MPS、MTIA 或 XPU 等加速器上训练我们的模型。如果当前的加速器可用，我们就会使用它。否则，我们将使用 CPU。\n",
    "- 具体来说，CUDA 是 NVIDIA 推出的一种并行计算平台和编程模型，可加速 GPU 计算；\n",
    "- MPS 是苹果公司的 Metal Performance Shaders，用于在苹果设备 GPU 上进行高性能计算；\n",
    "- MTIA 是英特尔推出的一种面向 AI 推理的加速器；\n",
    "- XPU 是一些厂商自定义的通用计算加速芯片的统称。\n",
    "\n",
    "这句话表明训练模型优先选择可用的这些加速器，若都不可用则退而求其次使用中央处理器（CPU）来训练模型。\n"
   ]
  },
  {
   "cell_type": "code",
   "execution_count": 2,
   "id": "b0af4fa8",
   "metadata": {},
   "outputs": [
    {
     "name": "stdout",
     "output_type": "stream",
     "text": [
      "Using cuda device\n"
     ]
    }
   ],
   "source": [
    "device = torch.accelerator.current_accelerator().type if torch.accelerator.is_available() else \"cpu\"\n",
    "print(f\"Using {device} device\")"
   ]
  }
 ],
 "metadata": {
  "kernelspec": {
   "display_name": "pytorchV",
   "language": "python",
   "name": "python3"
  },
  "language_info": {
   "codemirror_mode": {
    "name": "ipython",
    "version": 3
   },
   "file_extension": ".py",
   "mimetype": "text/x-python",
   "name": "python",
   "nbconvert_exporter": "python",
   "pygments_lexer": "ipython3",
   "version": "3.10.18"
  }
 },
 "nbformat": 4,
 "nbformat_minor": 5
}
