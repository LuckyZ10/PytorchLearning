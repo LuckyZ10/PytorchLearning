{
 "cells": [
  {
   "cell_type": "markdown",
   "id": "151481d0",
   "metadata": {},
   "source": [
    "# Automatic Differentiation with `torch.autograd`\n",
    "在训练神经网络时，最常使用的算法是 **back propagation**。在该算法中，parameters (model weights)会根据 **loss function** 相对于给定parameter 的 **gradient** 进行调整。"
   ]
  }
 ],
 "metadata": {
  "language_info": {
   "name": "python"
  }
 },
 "nbformat": 4,
 "nbformat_minor": 5
}
